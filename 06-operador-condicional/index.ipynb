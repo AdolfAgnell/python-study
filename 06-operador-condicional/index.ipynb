{
 "cells": [
  {
   "cell_type": "markdown",
   "metadata": {},
   "source": [
    "### Operador condicional"
   ]
  },
  {
   "cell_type": "code",
   "execution_count": 1,
   "metadata": {},
   "outputs": [
    {
     "data": {
      "text/plain": [
       "True"
      ]
     },
     "execution_count": 1,
     "metadata": {},
     "output_type": "execute_result"
    }
   ],
   "source": [
    "5 > 3"
   ]
  },
  {
   "cell_type": "code",
   "execution_count": 3,
   "metadata": {},
   "outputs": [
    {
     "name": "stdout",
     "output_type": "stream",
     "text": [
      "5 e maior que 3\n"
     ]
    }
   ],
   "source": [
    "if 5 > 3:\n",
    "  print(\"5 e maior que 3\")"
   ]
  },
  {
   "cell_type": "code",
   "execution_count": 4,
   "metadata": {},
   "outputs": [
    {
     "name": "stdout",
     "output_type": "stream",
     "text": [
      "5 nao e maior\n"
     ]
    }
   ],
   "source": [
    "if 5 > 6:\n",
    "  print(\"5 e maior\")\n",
    "else:\n",
    "  print(\"5 nao e maior\")"
   ]
  },
  {
   "cell_type": "code",
   "execution_count": 9,
   "metadata": {},
   "outputs": [
    {
     "name": "stdout",
     "output_type": "stream",
     "text": [
      "n e igual a 3\n"
     ]
    }
   ],
   "source": [
    "n = 3\n",
    "if n == 4:\n",
    "  print(\"n e igual a 4\")\n",
    "else:\n",
    "  if n == 3:\n",
    "    print(\"n e igual a 3\")\n",
    "  else:\n",
    "    print(\"n nao e igual a 4 nem 3\")"
   ]
  },
  {
   "cell_type": "code",
   "execution_count": 11,
   "metadata": {},
   "outputs": [
    {
     "name": "stdout",
     "output_type": "stream",
     "text": [
      "x e maior que 1 e y e par\n"
     ]
    }
   ],
   "source": [
    "x = 2\n",
    "y = 4\n",
    "if (x > 1) and (y % 2 == 0):\n",
    "  print(\"x e maior que 1 e y e par\")\n",
    "else:\n",
    "  print(\"Uma ou nenhuma das condicoes foram atendidas\")"
   ]
  }
 ],
 "metadata": {
  "kernelspec": {
   "display_name": "Python 3",
   "language": "python",
   "name": "python3"
  },
  "language_info": {
   "codemirror_mode": {
    "name": "ipython",
    "version": 3
   },
   "file_extension": ".py",
   "mimetype": "text/x-python",
   "name": "python",
   "nbconvert_exporter": "python",
   "pygments_lexer": "ipython3",
   "version": "3.11.5"
  }
 },
 "nbformat": 4,
 "nbformat_minor": 2
}
