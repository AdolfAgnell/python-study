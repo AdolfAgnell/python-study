{
 "cells": [
  {
   "cell_type": "markdown",
   "metadata": {},
   "source": [
    "### Exercicio 01\n",
    "Ler dois numeros inteiros, executar e mostrar o resultado das seguintes operacoes: adicao, subtracao, multiplicacao e divisao"
   ]
  },
  {
   "cell_type": "code",
   "execution_count": null,
   "metadata": {},
   "outputs": [],
   "source": [
    "valor1 = 10\n",
    "valor2 = 20\n",
    "\n",
    "print(valor1)\n",
    "print(valor2)"
   ]
  },
  {
   "cell_type": "code",
   "execution_count": null,
   "metadata": {},
   "outputs": [],
   "source": [
    "###adicao\n",
    "print(valor1 + valor2)"
   ]
  },
  {
   "cell_type": "code",
   "execution_count": null,
   "metadata": {},
   "outputs": [],
   "source": [
    "###subtracao\n",
    "print(valor1 - valor2)"
   ]
  },
  {
   "cell_type": "code",
   "execution_count": null,
   "metadata": {},
   "outputs": [],
   "source": [
    "###multiplicacao\n",
    "print(valor1 * valor2)"
   ]
  },
  {
   "cell_type": "code",
   "execution_count": null,
   "metadata": {},
   "outputs": [],
   "source": [
    "###divisao\n",
    "print(valor1 / valor2)"
   ]
  },
  {
   "cell_type": "code",
   "execution_count": 1,
   "metadata": {},
   "outputs": [
    {
     "name": "stdout",
     "output_type": "stream",
     "text": [
      "Velocidade média:  40.0\n",
      "Tempo gasto na viagem:  30.0\n",
      "Distância percorrida:  1200.0\n",
      "Quantidade de litros utilizada na viagem:  100.0\n"
     ]
    }
   ],
   "source": [
    "###Efetuar o cálculo da quantidade de litros de combustível gasto em uma viagem, utilizando um automóvel que faz 12 Km por litro. Para obter o cálculo, o usuário deve fornecer o tempo gasto na viagem e a velocidade média durante ela. Desta forma, será possível obter a distância percorrida com a fórmula DISTANCIA = TEMPO * VELOCIDADE. Tendo o valor da distância, basta calcular a quantidade de litros de combustível utilizada na viagem, com a fórmula: LITROS_USADOS = DISTANCIA / 12. O programa deve apresentar os valores da velocidade média, tempo gasto na viagem, a distância percorrida e a quantidade de litros utilizada na viagem\n",
    "\n",
    "tempo = float(input(\"Digite o tempo gasto na viagem: \"))\n",
    "velocidade = float(input(\"Digite a velocidade média: \"))\n",
    "distancia = tempo * velocidade\n",
    "litros_usados = distancia / 12\n",
    "\n",
    "print(\"Velocidade média: \", velocidade)\n",
    "print(\"Tempo gasto na viagem: \", tempo)\n",
    "print(\"Distância percorrida: \", distancia)\n",
    "print(\"Quantidade de litros utilizada na viagem: \", litros_usados)"
   ]
  }
 ],
 "metadata": {
  "kernelspec": {
   "display_name": "Python 3",
   "language": "python",
   "name": "python3"
  },
  "language_info": {
   "codemirror_mode": {
    "name": "ipython",
    "version": 3
   },
   "file_extension": ".py",
   "mimetype": "text/x-python",
   "name": "python",
   "nbconvert_exporter": "python",
   "pygments_lexer": "ipython3",
   "version": "3.11.5"
  }
 },
 "nbformat": 4,
 "nbformat_minor": 2
}
