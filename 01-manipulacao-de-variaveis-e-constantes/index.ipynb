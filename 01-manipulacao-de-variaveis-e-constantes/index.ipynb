{
 "cells": [
  {
   "cell_type": "markdown",
   "metadata": {},
   "source": [
    "# Manipulação de variáveis e constantes\n",
    "\n",
    "## Variáveis e constantes\n",
    "\n",
    "Por meio de variáveis que um algoritmo “guarda” os dados do problema. Todo dado que tem a possibilidade de ser alterado no decorrer do tempo deverá ser tratado como uma variável. Quando um dado não tem nenhuma possibilidade de variar no decorrer do tempo, deverá ser tratado como constante.\n",
    "\n",
    "Exemplo: calcular a área de um triângulo. Sabemos que a fórmula para o cálculo da área de um triângulo é `BASE * ALTURA / 2`. Base e altura são dados que irão variar no decorrer do “tempo de execução”. O número 2 da fórmula é um dado constante, pois sempre terá o mesmo valor.\n",
    "\n",
    "## Tipo de variáveis\n",
    "\n",
    "- **Inteiros**: valores positivos ou negativos, que não possuem uma parte fracionária. Exemplos: `1`, `30`, `40`, `12`, `-50`\n",
    "- **Float (real)**: valores positivos ou negativos, que podem possuir uma parte fracionária (também podem ser inteiros). Exemplos: `1.4`, `6.7`, `10.3`, `100`, `-47`\n",
    "- **Caracteres (char ou string)**: qualquer elemento presente no teclado. Exemplos: `\"Maria\"`, `\"João\"`, `'M'`, `'F'`\n",
    "- **Lógico (booleano)**: verdadeiro ou falso. Exemplos: `true`, `false`, `1`, `0`"
   ]
  },
  {
   "cell_type": "code",
   "execution_count": 7,
   "metadata": {},
   "outputs": [
    {
     "name": "stdout",
     "output_type": "stream",
     "text": [
      "-3\n"
     ]
    }
   ],
   "source": [
    "## Variaveis inteiras\n",
    "numero = -3\n",
    "numero_jogos = 13\n",
    "numero_convidados = 5\n",
    "\n",
    "print(numero)"
   ]
  },
  {
   "cell_type": "code",
   "execution_count": null,
   "metadata": {},
   "outputs": [
    {
     "name": "stdout",
     "output_type": "stream",
     "text": [
      "3.14159265359\n",
      "2.718281828459045\n",
      "7.1\n"
     ]
    }
   ],
   "source": [
    "##Variaveis float (Pontos flutuantes)\n",
    "numero_pi = 3.14159265359\n",
    "numer_euler = 2.718281828459045\n",
    "escala_terremoto = 7.1\n",
    "\n",
    "print(numero_pi)\n",
    "print(numer_euler)\n",
    "print(escala_terremoto)\n"
   ]
  },
  {
   "cell_type": "markdown",
   "metadata": {},
   "source": [
    "### String e chars"
   ]
  },
  {
   "cell_type": "code",
   "execution_count": 11,
   "metadata": {},
   "outputs": [
    {
     "name": "stdout",
     "output_type": "stream",
     "text": [
      "a linguagem de programação Python\n",
      "Esta linguagem de programação se chama Python\n"
     ]
    }
   ],
   "source": [
    "letra = 'a'\n",
    "palavra1 = 'linguagem de programação'\n",
    "palavra2 = 'Python'\n",
    "\n",
    "print(letra, palavra1, palavra2)\n",
    "print('Esta', palavra1, 'se chama', palavra2)"
   ]
  },
  {
   "cell_type": "code",
   "execution_count": 14,
   "metadata": {},
   "outputs": [
    {
     "name": "stdout",
     "output_type": "stream",
     "text": [
      "Sua idade é: 21\n"
     ]
    }
   ],
   "source": [
    "idade= int(input('Digite sua idade: '))\n",
    "print('Sua idade é:', idade)"
   ]
  },
  {
   "cell_type": "code",
   "execution_count": null,
   "metadata": {},
   "outputs": [
    {
     "name": "stdout",
     "output_type": "stream",
     "text": [
      "O pH do solo é: 10\n"
     ]
    }
   ],
   "source": [
    "pH = float(input('Digite o pH do solo durante a ultima medição: '))\n",
    "print('O pH do solo é:', pH)\n"
   ]
  }
 ],
 "metadata": {
  "kernelspec": {
   "display_name": "Python 3",
   "language": "python",
   "name": "python3"
  },
  "language_info": {
   "codemirror_mode": {
    "name": "ipython",
    "version": 3
   },
   "file_extension": ".py",
   "mimetype": "text/x-python",
   "name": "python",
   "nbconvert_exporter": "python",
   "pygments_lexer": "ipython3",
   "version": "3.11.5"
  }
 },
 "nbformat": 4,
 "nbformat_minor": 2
}
